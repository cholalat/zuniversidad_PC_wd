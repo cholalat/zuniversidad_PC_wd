{
 "cells": [
  {
   "cell_type": "markdown",
   "metadata": {},
   "source": [
    "# ICS2123 - Tarea 3 Código"
   ]
  },
  {
   "cell_type": "markdown",
   "metadata": {},
   "source": [
    "### Celda 1: Importamos algunas librerías (NO MODIFICAR)"
   ]
  },
  {
   "cell_type": "code",
   "execution_count": null,
   "metadata": {},
   "outputs": [],
   "source": []
  },
  {
   "cell_type": "code",
   "execution_count": 2,
   "metadata": {},
   "outputs": [
    {
     "ename": "ModuleNotFoundError",
     "evalue": "No module named 'numpy'",
     "output_type": "error",
     "traceback": [
      "\u001b[31m---------------------------------------------------------------------------\u001b[39m",
      "\u001b[31mModuleNotFoundError\u001b[39m                       Traceback (most recent call last)",
      "\u001b[36mCell\u001b[39m\u001b[36m \u001b[39m\u001b[32mIn[2]\u001b[39m\u001b[32m, line 2\u001b[39m\n\u001b[32m      1\u001b[39m \u001b[38;5;66;03m# Celda 1\u001b[39;00m\n\u001b[32m----> \u001b[39m\u001b[32m2\u001b[39m \u001b[38;5;28;01mimport\u001b[39;00m\u001b[38;5;250m \u001b[39m\u001b[34;01mnumpy\u001b[39;00m\u001b[38;5;250m \u001b[39m\u001b[38;5;28;01mas\u001b[39;00m\u001b[38;5;250m \u001b[39m\u001b[34;01mnp\u001b[39;00m\n\u001b[32m      3\u001b[39m \u001b[38;5;28;01mimport\u001b[39;00m\u001b[38;5;250m \u001b[39m\u001b[34;01mrandom\u001b[39;00m\n\u001b[32m      4\u001b[39m \u001b[38;5;28;01mimport\u001b[39;00m\u001b[38;5;250m \u001b[39m\u001b[34;01mmatplotlib\u001b[39;00m\u001b[34;01m.\u001b[39;00m\u001b[34;01mpyplot\u001b[39;00m\u001b[38;5;250m \u001b[39m\u001b[38;5;28;01mas\u001b[39;00m\u001b[38;5;250m \u001b[39m\u001b[34;01mplt\u001b[39;00m\n",
      "\u001b[31mModuleNotFoundError\u001b[39m: No module named 'numpy'"
     ]
    }
   ],
   "source": [
    "# Celda 1\n",
    "import numpy as np\n",
    "import random\n",
    "import matplotlib.pyplot as plt\n",
    "import seaborn as sns\n",
    "import scipy.stats as stats"
   ]
  },
  {
   "cell_type": "markdown",
   "metadata": {},
   "source": [
    "## Inciso b)"
   ]
  },
  {
   "cell_type": "markdown",
   "metadata": {},
   "source": [
    "### Celda 2: Parámetros (NO MODIFICAR)"
   ]
  },
  {
   "cell_type": "code",
   "execution_count": null,
   "metadata": {},
   "outputs": [],
   "source": [
    "# Celda 2\n",
    "K = 1000  # Población total\n",
    "porcentaje_inicial_infectados  = 0.05  # Porcentaje de la población que está expuesta\n",
    "k = int(K*porcentaje_inicial_infectados)  # Población inicial de infectados, todos sintomáticos\n",
    "alpha = 0.1  # Tasa de natalidad\n",
    "beta_i = 0.4  # Tasa de transmisión de infectados sintomáticos\n",
    "beta_a = 0.15  # Tasa de transmisión de infectados asintomáticos\n",
    "sigma = 1/7  # Tasa de incubación (7 días en promedio)\n",
    "p = 0.8  # Probabilidad de que un expuesto se vuelva sintomático\n",
    "q = 0.15  # Probabilidad de hospitalización al enfermarse\n",
    "gamma = 1/7  # Tasa aparición sintomas (7 días)\n",
    "delta = 1/21  # Tasa de recuperación asintomáticos (21 días)\n",
    "phi = 1/14  # Tasa de hospitalizacion (14 días)\n",
    "r = 0.95  # Probabilidad de sobrevivir a la hospitalización\n",
    "mu = 1/28 # Tasa de aislamiento a los recuperados (28 días)\n",
    "s = 0.9 # Probabilidad de que se recupere completamente\n",
    "estados_posibles = [\"SUSCEPTIBLES\", \"EXPUESTOS\",  \"INFECTADOS_SINTOMATICOS\", \"INFECTADOS_ASINTOMATICOS\", \"HOSPITALIZADOS\", \"RECUPERADOS\", \"MUERTOS\"]\n",
    "estado_inicial = [K-k, 0, k, 0, 0, 0, 0]  # Estado inicial de la población\n",
    "t_simulacion = 365*1  # Tiempo de simulación (días)\n",
    "\n",
    "\n",
    "parametros = {}\n",
    "parametros[\"alpha\"] = alpha\n",
    "parametros[\"beta_i\"] = beta_i\n",
    "parametros[\"beta_a\"] = beta_a\n",
    "parametros[\"sigma\"] = sigma\n",
    "parametros[\"p\"] = p\n",
    "parametros[\"q\"] = q\n",
    "parametros[\"gamma\"] = gamma\n",
    "parametros[\"delta\"] = delta\n",
    "parametros[\"phi\"] = phi\n",
    "parametros[\"r\"] = r\n",
    "parametros[\"mu\"] = mu\n",
    "parametros[\"s\"] = s\n",
    "parametros[\"estados_posibles\"] = estados_posibles\n",
    "parametros[\"estado_inicial\"] = estado_inicial\n",
    "parametros[\"t_simulacion\"] = t_simulacion\n",
    "parametros[\"semilla\"] = 2123"
   ]
  },
  {
   "cell_type": "markdown",
   "metadata": {},
   "source": [
    "### Celda 3: Crear función para simular la CMTC (MODIFICAR)"
   ]
  },
  {
   "cell_type": "code",
   "execution_count": 14,
   "metadata": {},
   "outputs": [],
   "source": [
    "# Celda 3\n",
    "def simular_cmtc(parametros):\n",
    "    # Inicializar la semilla aleatoria\n",
    "    np.random.seed(parametros[\"semilla\"])\n",
    "    random.seed(parametros[\"semilla\"])\n",
    "    return "
   ]
  },
  {
   "cell_type": "markdown",
   "metadata": {},
   "source": [
    "## Inciso c)"
   ]
  },
  {
   "cell_type": "markdown",
   "metadata": {},
   "source": [
    "### Celda 4: Parámetros (NO MODIFICAR)"
   ]
  },
  {
   "cell_type": "code",
   "execution_count": 6,
   "metadata": {},
   "outputs": [],
   "source": [
    "# Celda 4\n",
    "numero_simulaciones = 100\n",
    "parametros[\"t_simulacion\"] = 365*10\n",
    "lista_semillas = [i for i in range(numero_simulaciones)]\n",
    "\n",
    "# Nota: Son 100 simulaciones, pero el tiempo de simulación es de 10 años (3650 días), manteniendo el resto de los parámetros constantes del inciso anterior.\n",
    "# Por cada simulación, se debe cambiar la semilla, para que cada simulación sea diferente. Para eso, cambiar parametros[\"semilla\"] = i, con i el número de la simulación."
   ]
  },
  {
   "cell_type": "markdown",
   "metadata": {},
   "source": [
    "### Celda 5: Acá deben ejecutar sus simulaciones y posteriores análisis"
   ]
  },
  {
   "cell_type": "code",
   "execution_count": null,
   "metadata": {},
   "outputs": [],
   "source": [
    "# Celda 5"
   ]
  },
  {
   "cell_type": "markdown",
   "metadata": {},
   "source": [
    "## Inciso d)"
   ]
  },
  {
   "cell_type": "markdown",
   "metadata": {},
   "source": [
    "### Celda 6: Parámetros Alternativa 1 (NO MODIFICAR)"
   ]
  },
  {
   "cell_type": "code",
   "execution_count": 13,
   "metadata": {},
   "outputs": [],
   "source": [
    "# Celda 6\n",
    "# Alternativa 1: Aumentar a 1.2 veces la tasa de natilidad\n",
    "parametros_alternativos_1 = parametros.copy()\n",
    "parametros_alternativos_1[\"alpha\"] = 1.2*parametros[\"alpha\"]\n",
    "parametros_alternativos_1[\"t_simulacion\"] = 365*10\n",
    "lista_semillas = [i for i in range(numero_simulaciones)]\n",
    "\n",
    "# Nota: Son 100 simulaciones, pero el tiempo de simulación es de 10 años (3650 días), manteniendo el resto de los parámetros constantes del inciso anterior.\n",
    "# Por cada simulación, se debe cambiar la semilla, para que cada simulación sea diferente. Para eso, cambiar parametros[\"semilla\"] = i, con i el número de la simulación.\n",
    "# (Es el mismo procedimiento que el inciso anterior, pero ahora se cambia la tasa de natalidad a 1.2 veces la original)."
   ]
  },
  {
   "cell_type": "markdown",
   "metadata": {},
   "source": [
    "### Celda 7: Parámetros Alternativa 2 (NO MODIFICAR)"
   ]
  },
  {
   "cell_type": "code",
   "execution_count": null,
   "metadata": {},
   "outputs": [],
   "source": [
    "# Celda 7\n",
    "# Alternativa 2: Disminución tiempo de detccion sintomas y disminución probabilidad de hospitalización\n",
    "parametros_alternativos_2 = parametros.copy()\n",
    "parametros_alternativos_2[\"gamma\"] = 2*parametros[\"gamma\"]\n",
    "parametros_alternativos_2[\"q\"] = parametros[\"q\"]/2\n",
    "parametros_alternativos_2[\"t_simulacion\"] = 365*10\n",
    "lista_semillas = [i for i in range(numero_simulaciones)]\n",
    "\n",
    "# Nota: Son 100 simulaciones, pero el tiempo de simulación es de 10 años (3650 días), manteniendo el resto de los parámetros constantes del inciso anterior.\n",
    "# Por cada simulación, se debe cambiar la semilla, para que cada simulación sea diferente. Para eso, cambiar parametros[\"semilla\"] = i, con i el número de la simulación.\n",
    "# (Es el mismo procedimiento que el inciso anterior, pero ahora se cambia la tasa de detección de sintomas a 2 veces, 0.5 la probabilidad de requerir hospitalización veces la original).\n"
   ]
  },
  {
   "cell_type": "markdown",
   "metadata": {},
   "source": [
    "### Celda 8: Parámetros Alternativa 3 (NO MODIFICAR)"
   ]
  },
  {
   "cell_type": "code",
   "execution_count": null,
   "metadata": {},
   "outputs": [],
   "source": [
    "# Celda 8\n",
    "# Alternativa 3: disminución tiempo de hospitalizacion, aumento probabilidad de recuperación\n",
    "parametros_alternativos_3 = parametros.copy()\n",
    "parametros_alternativos_3[\"phi\"] = 2*parametros[\"phi\"]\n",
    "parametros_alternativos_3[\"r\"] = parametros[\"r\"]*1.03\n",
    "parametros_alternativos_2[\"t_simulacion\"] = 365*10\n",
    "lista_semillas = [i for i in range(numero_simulaciones)]\n",
    "\n",
    "# Nota: Son 100 simulaciones, pero el tiempo de simulación es de 10 años (3650 días), manteniendo el resto de los parámetros constantes del inciso anterior.\n",
    "# Por cada simulación, se debe cambiar la semilla, para que cada simulación sea diferente. Para eso, cambiar parametros[\"semilla\"] = i, con i el número de la simulación.\n",
    "# (Es el mismo procedimiento que el inciso anterior, pero ahora con 2 veces la tasa de estadía del hospital y 1.03 la probabilidad de recuperación)."
   ]
  },
  {
   "cell_type": "markdown",
   "metadata": {},
   "source": [
    "### Celda 9: Acá deben ejecutar sus simulaciones y posteriores análisis"
   ]
  },
  {
   "cell_type": "code",
   "execution_count": null,
   "metadata": {},
   "outputs": [],
   "source": [
    "# Celda 9"
   ]
  }
 ],
 "metadata": {
  "kernelspec": {
   "display_name": ".venv",
   "language": "python",
   "name": "python3"
  },
  "language_info": {
   "codemirror_mode": {
    "name": "ipython",
    "version": 3
   },
   "file_extension": ".py",
   "mimetype": "text/x-python",
   "name": "python",
   "nbconvert_exporter": "python",
   "pygments_lexer": "ipython3",
   "version": "3.13.3"
  }
 },
 "nbformat": 4,
 "nbformat_minor": 2
}
